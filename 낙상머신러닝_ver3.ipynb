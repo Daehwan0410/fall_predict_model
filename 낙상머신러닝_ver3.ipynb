{
 "cells": [
  {
   "cell_type": "code",
   "execution_count": 11,
   "id": "488a979f",
   "metadata": {},
   "outputs": [],
   "source": [
    "import pandas as pd\n",
    "import numpy as np\n",
    "# import pickle\n",
    "import joblib\n",
    "from pickle import dump\n",
    "import matplotlib.pyplot as plt\n",
    "\n",
    "from sklearn import preprocessing\n",
    "from sklearn.model_selection import train_test_split"
   ]
  },
  {
   "cell_type": "code",
   "execution_count": 4,
   "id": "d497260a",
   "metadata": {},
   "outputs": [],
   "source": [
    "df = pd.read_csv('./Data/SumData.csv')\n",
    "y = df['y_value']\n",
    "X = df.loc[:, df.columns != 'y_value']\n",
    "X_train, X_test, y_train, y_test = train_test_split(X, y, test_size=0.25, random_state=42)\n",
    "\n",
    "cols = X_train.columns\n",
    "min_max_scaler = preprocessing.MinMaxScaler()\n",
    "X_train = min_max_scaler.fit_transform(X_train.values)\n",
    "# new data frame with the new scaled data. \n",
    "X_train = pd.DataFrame(X_train, columns = cols)\n",
    "X_test = min_max_scaler.transform(X_test.values)\n",
    "X_test = pd.DataFrame(X_test, columns = cols)\n",
    "\n",
    "\n",
    "X_train =  np.array(X_train)\n",
    "X_train = X_train.reshape(-1,90,1)\n",
    "X_test =  np.array(X_test)\n",
    "X_test = X_test.reshape(-1,90,1)\n"
   ]
  },
  {
   "cell_type": "code",
   "execution_count": 2,
   "id": "f1011f25",
   "metadata": {},
   "outputs": [],
   "source": [
    "# import tensorflow.keras as keras\n",
    "from tensorflow.keras import Sequential\n",
    "from tensorflow.keras.layers import *\n",
    "from tensorflow.keras.callbacks import ReduceLROnPlateau,EarlyStopping,ModelCheckpoint,LearningRateScheduler\n",
    "import tensorflow as tf"
   ]
  },
  {
   "cell_type": "code",
   "execution_count": 5,
   "id": "539a51ca",
   "metadata": {},
   "outputs": [],
   "source": [
    "early_stopping= EarlyStopping(monitor='val_loss',mode='min',verbose=1,patience=5) \n",
    "check_pointer = ModelCheckpoint(filepath = 'clf-resnet-checkpoint2.hdf5',verbose=1,save_best_only=True) \n",
    "reduce_lr = ReduceLROnPlateau(monitor='val_loss',mode='min',verbose=1,patience=5,min_delta = 0.0001,factor=0.2) \n",
    "callbacks = [check_pointer,early_stopping,reduce_lr]\n",
    "def create_model():\n",
    "    model = Sequential()\n",
    "    model.add(GRU(128, input_shape = (90,1), return_sequences = True))\n",
    "    model.add(Dropout(0.3))\n",
    "    model.add(GRU(64,  return_sequences = True))\n",
    "    model.add(Dropout(0.3))\n",
    "    model.add(GRU(32, return_sequences = True))\n",
    "    model.add(Dropout(0.3))\n",
    "    model.add(GRU(16, return_sequences = False))\n",
    "    model.add(Dropout(0.3))\n",
    "    model.add(Dense(1, activation='sigmoid'))\n",
    "    # model.summary()\n",
    "\n",
    "    model.compile(loss = 'binary_crossentropy', optimizer = 'rmsprop', metrics = ['accuracy'])\n",
    "    \n",
    "    return model\n",
    "\n",
    "# model.fit(X_train, y_train,\n",
    "#                     validation_data = (X_test,y_test),\n",
    "#                     epochs = 10,\n",
    "#                     batch_size = 40\n",
    "#                     ,callbacks = [callbacks]\n",
    "# #                      ,early_stopping\n",
    "#          )"
   ]
  },
  {
   "cell_type": "code",
   "execution_count": 9,
   "id": "5f2eb6fe",
   "metadata": {
    "scrolled": false
   },
   "outputs": [
    {
     "name": "stdout",
     "output_type": "stream",
     "text": [
      "Epoch 1/20\n",
      "2050/2050 [==============================] - ETA: 0s - loss: 0.1805 - accuracy: 0.9586\n",
      "Epoch 00001: val_loss improved from inf to 0.17483, saving model to clf-resnet-checkpoint2.hdf5\n",
      "2050/2050 [==============================] - 68s 26ms/step - loss: 0.1805 - accuracy: 0.9586 - val_loss: 0.1748 - val_accuracy: 0.9587 - lr: 0.0010\n",
      "Epoch 2/20\n",
      "2050/2050 [==============================] - ETA: 0s - loss: 0.1703 - accuracy: 0.9581\n",
      "Epoch 00002: val_loss improved from 0.17483 to 0.14827, saving model to clf-resnet-checkpoint2.hdf5\n",
      "2050/2050 [==============================] - 52s 25ms/step - loss: 0.1703 - accuracy: 0.9581 - val_loss: 0.1483 - val_accuracy: 0.9609 - lr: 0.0010\n",
      "Epoch 3/20\n",
      "2048/2050 [============================>.] - ETA: 0s - loss: 0.1316 - accuracy: 0.9586\n",
      "Epoch 00003: val_loss improved from 0.14827 to 0.10207, saving model to clf-resnet-checkpoint2.hdf5\n",
      "2050/2050 [==============================] - 52s 25ms/step - loss: 0.1316 - accuracy: 0.9586 - val_loss: 0.1021 - val_accuracy: 0.9570 - lr: 0.0010\n",
      "Epoch 4/20\n",
      "2050/2050 [==============================] - ETA: 0s - loss: 0.1003 - accuracy: 0.9662\n",
      "Epoch 00004: val_loss improved from 0.10207 to 0.08898, saving model to clf-resnet-checkpoint2.hdf5\n",
      "2050/2050 [==============================] - 52s 25ms/step - loss: 0.1003 - accuracy: 0.9662 - val_loss: 0.0890 - val_accuracy: 0.9711 - lr: 0.0010\n",
      "Epoch 5/20\n",
      "2049/2050 [============================>.] - ETA: 0s - loss: 0.0869 - accuracy: 0.9714\n",
      "Epoch 00005: val_loss improved from 0.08898 to 0.08808, saving model to clf-resnet-checkpoint2.hdf5\n",
      "2050/2050 [==============================] - 52s 25ms/step - loss: 0.0869 - accuracy: 0.9714 - val_loss: 0.0881 - val_accuracy: 0.9694 - lr: 0.0010\n",
      "Epoch 6/20\n",
      "2048/2050 [============================>.] - ETA: 0s - loss: 0.0777 - accuracy: 0.9754\n",
      "Epoch 00006: val_loss improved from 0.08808 to 0.06407, saving model to clf-resnet-checkpoint2.hdf5\n",
      "2050/2050 [==============================] - 51s 25ms/step - loss: 0.0778 - accuracy: 0.9754 - val_loss: 0.0641 - val_accuracy: 0.9798 - lr: 0.0010\n",
      "Epoch 7/20\n",
      "2050/2050 [==============================] - ETA: 0s - loss: 0.0699 - accuracy: 0.9779\n",
      "Epoch 00007: val_loss did not improve from 0.06407\n",
      "2050/2050 [==============================] - 52s 25ms/step - loss: 0.0699 - accuracy: 0.9779 - val_loss: 0.0677 - val_accuracy: 0.9764 - lr: 0.0010\n",
      "Epoch 8/20\n",
      "2050/2050 [==============================] - ETA: 0s - loss: 0.0644 - accuracy: 0.9787\n",
      "Epoch 00008: val_loss improved from 0.06407 to 0.05545, saving model to clf-resnet-checkpoint2.hdf5\n",
      "2050/2050 [==============================] - 52s 25ms/step - loss: 0.0644 - accuracy: 0.9787 - val_loss: 0.0554 - val_accuracy: 0.9802 - lr: 0.0010\n",
      "Epoch 9/20\n",
      "2050/2050 [==============================] - ETA: 0s - loss: 0.0596 - accuracy: 0.9811\n",
      "Epoch 00009: val_loss improved from 0.05545 to 0.04928, saving model to clf-resnet-checkpoint2.hdf5\n",
      "2050/2050 [==============================] - 52s 25ms/step - loss: 0.0596 - accuracy: 0.9811 - val_loss: 0.0493 - val_accuracy: 0.9820 - lr: 0.0010\n",
      "Epoch 10/20\n",
      "2049/2050 [============================>.] - ETA: 0s - loss: 0.0561 - accuracy: 0.9818\n",
      "Epoch 00010: val_loss improved from 0.04928 to 0.04628, saving model to clf-resnet-checkpoint2.hdf5\n",
      "2050/2050 [==============================] - 51s 25ms/step - loss: 0.0561 - accuracy: 0.9818 - val_loss: 0.0463 - val_accuracy: 0.9835 - lr: 0.0010\n",
      "Epoch 11/20\n",
      "2049/2050 [============================>.] - ETA: 0s - loss: 0.0516 - accuracy: 0.9830\n",
      "Epoch 00011: val_loss improved from 0.04628 to 0.03929, saving model to clf-resnet-checkpoint2.hdf5\n",
      "2050/2050 [==============================] - 50s 25ms/step - loss: 0.0516 - accuracy: 0.9830 - val_loss: 0.0393 - val_accuracy: 0.9860 - lr: 0.0010\n",
      "Epoch 12/20\n",
      "2049/2050 [============================>.] - ETA: 0s - loss: 0.0480 - accuracy: 0.9837\n",
      "Epoch 00012: val_loss did not improve from 0.03929\n",
      "2050/2050 [==============================] - 51s 25ms/step - loss: 0.0480 - accuracy: 0.9838 - val_loss: 0.0406 - val_accuracy: 0.9851 - lr: 0.0010\n",
      "Epoch 13/20\n",
      "2049/2050 [============================>.] - ETA: 0s - loss: 0.0462 - accuracy: 0.9845\n",
      "Epoch 00013: val_loss did not improve from 0.03929\n",
      "2050/2050 [==============================] - 51s 25ms/step - loss: 0.0462 - accuracy: 0.9845 - val_loss: 0.0399 - val_accuracy: 0.9854 - lr: 0.0010\n",
      "Epoch 14/20\n",
      "2050/2050 [==============================] - ETA: 0s - loss: 0.0442 - accuracy: 0.9852\n",
      "Epoch 00014: val_loss did not improve from 0.03929\n",
      "2050/2050 [==============================] - 52s 25ms/step - loss: 0.0442 - accuracy: 0.9852 - val_loss: 0.0432 - val_accuracy: 0.9851 - lr: 0.0010\n",
      "Epoch 15/20\n",
      "2048/2050 [============================>.] - ETA: 0s - loss: 0.0407 - accuracy: 0.9862\n",
      "Epoch 00015: val_loss improved from 0.03929 to 0.03665, saving model to clf-resnet-checkpoint2.hdf5\n",
      "2050/2050 [==============================] - 46s 22ms/step - loss: 0.0407 - accuracy: 0.9862 - val_loss: 0.0367 - val_accuracy: 0.9875 - lr: 0.0010\n",
      "Epoch 16/20\n",
      "2048/2050 [============================>.] - ETA: 0s - loss: 0.0398 - accuracy: 0.9868\n",
      "Epoch 00016: val_loss improved from 0.03665 to 0.03429, saving model to clf-resnet-checkpoint2.hdf5\n",
      "2050/2050 [==============================] - 37s 18ms/step - loss: 0.0398 - accuracy: 0.9868 - val_loss: 0.0343 - val_accuracy: 0.9875 - lr: 0.0010\n",
      "Epoch 17/20\n",
      "2047/2050 [============================>.] - ETA: 0s - loss: 0.0376 - accuracy: 0.9874\n",
      "Epoch 00017: val_loss improved from 0.03429 to 0.03042, saving model to clf-resnet-checkpoint2.hdf5\n",
      "2050/2050 [==============================] - 37s 18ms/step - loss: 0.0376 - accuracy: 0.9874 - val_loss: 0.0304 - val_accuracy: 0.9885 - lr: 0.0010\n",
      "Epoch 18/20\n",
      "2047/2050 [============================>.] - ETA: 0s - loss: 0.0356 - accuracy: 0.9878\n",
      "Epoch 00018: val_loss did not improve from 0.03042\n",
      "2050/2050 [==============================] - 37s 18ms/step - loss: 0.0357 - accuracy: 0.9878 - val_loss: 0.0331 - val_accuracy: 0.9900 - lr: 0.0010\n",
      "Epoch 19/20\n",
      "2047/2050 [============================>.] - ETA: 0s - loss: 0.0343 - accuracy: 0.9884\n",
      "Epoch 00019: val_loss improved from 0.03042 to 0.02342, saving model to clf-resnet-checkpoint2.hdf5\n",
      "2050/2050 [==============================] - 37s 18ms/step - loss: 0.0343 - accuracy: 0.9884 - val_loss: 0.0234 - val_accuracy: 0.9909 - lr: 0.0010\n",
      "Epoch 20/20\n",
      "2048/2050 [============================>.] - ETA: 0s - loss: 0.0319 - accuracy: 0.9887\n",
      "Epoch 00020: val_loss did not improve from 0.02342\n",
      "2050/2050 [==============================] - 37s 18ms/step - loss: 0.0319 - accuracy: 0.9887 - val_loss: 0.0333 - val_accuracy: 0.9887 - lr: 0.0010\n"
     ]
    }
   ],
   "source": [
    "hist = create_model().fit(X_train, y_train,\n",
    "                    validation_data = (X_test,y_test),\n",
    "                    epochs = 20,\n",
    "                    batch_size = 40\n",
    "                    ,callbacks = [callbacks]\n",
    "#                      ,early_stopping\n",
    "         )"
   ]
  },
  {
   "cell_type": "code",
   "execution_count": 13,
   "id": "7f49177c",
   "metadata": {},
   "outputs": [
    {
     "data": {
      "text/plain": [
       "<Figure size 1440x1440 with 0 Axes>"
      ]
     },
     "metadata": {},
     "output_type": "display_data"
    },
    {
     "data": {
      "image/png": "[encoded data removed]",
      "text/plain": [
       "<Figure size 432x288 with 2 Axes>"
      ]
     },
     "metadata": {
      "needs_background": "light"
     },
     "output_type": "display_data"
    }
   ],
   "source": [
    "plt.figure(figsize=(20,20))\n",
    "fig, axs = plt.subplots(2)\n",
    "\n",
    "# accuracy \n",
    "axs[0].plot(hist.history[\"accuracy\"], label=\"train accuracy\")\n",
    "axs[0].plot(hist.history[\"val_accuracy\"], label=\"test accuracy\")    \n",
    "axs[0].set_ylabel(\"Accuracy\")\n",
    "axs[0].legend(loc=\"lower right\")\n",
    "axs[0].set_title(\"Accuracy eval\")\n",
    "    \n",
    "# Error \n",
    "axs[1].plot(hist.history[\"loss\"], label=\"train error\")\n",
    "axs[1].plot(hist.history[\"val_loss\"], label=\"test error\")    \n",
    "axs[1].set_ylabel(\"Error\")\n",
    "axs[1].set_xlabel(\"Epoch\")\n",
    "axs[1].legend(loc=\"upper right\")\n",
    "axs[1].set_title(\"Error eval\")\n",
    "    \n",
    "plt.show()"
   ]
  },
  {
   "cell_type": "code",
   "execution_count": 5,
   "id": "498991ff",
   "metadata": {},
   "outputs": [],
   "source": [
    "model = create_model()\n",
    "model.load_weights('clf-resnet-checkpoint.hdf5')"
   ]
  },
  {
   "cell_type": "code",
   "execution_count": 8,
   "id": "b304d626",
   "metadata": {},
   "outputs": [],
   "source": [
    "# joblib.dump(model, './gru_model.pkl')\n",
    "model.save('gru_model.h5')"
   ]
  },
  {
   "cell_type": "code",
   "execution_count": 6,
   "id": "e462feab",
   "metadata": {},
   "outputs": [
    {
     "data": {
      "text/plain": [
       "array([[0.00010637],\n",
       "       [0.00011633],\n",
       "       [0.00763271],\n",
       "       ...,\n",
       "       [0.00011924],\n",
       "       [0.00019007],\n",
       "       [0.00014204]], dtype=float32)"
      ]
     },
     "execution_count": 6,
     "metadata": {},
     "output_type": "execute_result"
    }
   ],
   "source": [
    "a = model.predict(X_test)\n",
    "a"
   ]
  },
  {
   "cell_type": "code",
   "execution_count": null,
   "id": "de3b3d04",
   "metadata": {},
   "outputs": [],
   "source": [
    "list(map(astype()))"
   ]
  },
  {
   "cell_type": "code",
   "execution_count": 41,
   "id": "c8e9d0b3",
   "metadata": {
    "scrolled": true
   },
   "outputs": [
    {
     "name": "stdout",
     "output_type": "stream",
     "text": [
      "854/854 [==============================] - 7s 6ms/step - loss: 0.0242 - accuracy: 0.9914\n"
     ]
    },
    {
     "data": {
      "text/plain": [
       "[0.024165157228708267, 0.991363525390625]"
      ]
     },
     "execution_count": 41,
     "metadata": {},
     "output_type": "execute_result"
    }
   ],
   "source": [
    "model.evaluate(X_test, y_test)"
   ]
  }
 ],
 "metadata": {
  "kernelspec": {
   "display_name": "Python 3 (ipykernel)",
   "language": "python",
   "name": "python3"
  },
  "language_info": {
   "codemirror_mode": {
    "name": "ipython",
    "version": 3
   },
   "file_extension": ".py",
   "mimetype": "text/x-python",
   "name": "python",
   "nbconvert_exporter": "python",
   "pygments_lexer": "ipython3",
   "version": "3.9.7"
  }
 },
 "nbformat": 4,
 "nbformat_minor": 5
}
